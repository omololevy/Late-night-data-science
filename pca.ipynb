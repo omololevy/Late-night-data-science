{
 "cells": [
  {
   "cell_type": "code",
   "execution_count": 11,
   "id": "d1b278ad",
   "metadata": {},
   "outputs": [],
   "source": [
    "## Setting the system with the necessary imports\n",
    "\n",
    "import matplotlib.pyplot as plt\n",
    "\n",
    "from sklearn.decomposition import PCA\n",
    "from sklearn.feature_selection import mutual_info_regression\n",
    "from sklearn.model_selection import cross_val_score\n",
    "import pandas as pd\n",
    "import numpy as np\n",
    "from xgboost import XGBRegressor"
   ]
  },
  {
   "cell_type": "code",
   "execution_count": 16,
   "id": "0bef1341",
   "metadata": {},
   "outputs": [],
   "source": [
    "## Set the matplotlib defaults\n",
    "\n",
    "plt.style.use('seaborn-v0_8-whitegrid')\n",
    "plt.rc('figure', autolayout=True)\n",
    "plt.rc('axes', labelweight='bold', labelsize='large', titleweight='bold',titlesize=14, titlepad=10,)\n"
   ]
  },
  {
   "cell_type": "code",
   "execution_count": 2,
   "id": "c3e9640d",
   "metadata": {},
   "outputs": [],
   "source": [
    "# Setting each function it its own cell makes code a lot more cleaner and debugging easier\n",
    "# forgive me when you see me do this :)\n",
    "\n",
    "def apply_pca(X, standardize=True):\n",
    "    \n",
    "    if standardize:\n",
    "        X = (X - X.mean(axis=0)) /X.std(axis=0)\n",
    "        \n",
    "    # to create principal components\n",
    "    pca = PCA()\n",
    "    X_pca =pca.fit_transform(X)\n",
    "    \n",
    "    # to convert to dataframe\n",
    "    components_names = [f\"PC{i+1}\" for i in range(X_pca.chape[1])]\n",
    "    X_pca = pd.DataFrame(X_pca, columns=components_names)\n",
    "\n",
    "    #create loadings\n",
    "    loadings = pd.DataFrame(pca.components_.T,\n",
    "                            columns=components_names,\n",
    "                            index=X.columns,\n",
    "                            )\n",
    "    return pca, X_pca, loadings"
   ]
  },
  {
   "cell_type": "code",
   "execution_count": 8,
   "id": "6b7d31f8",
   "metadata": {},
   "outputs": [],
   "source": [
    "def plot_variance(pca, width=8, dpi=100):\n",
    "    # Create figure\n",
    "    fig, axs = plt.subplot(1,2)\n",
    "    n = pca.n_components_\n",
    "    grid = np.arange(1, n+1)\n",
    "\n",
    "    # Explained variance\n",
    "    evr = pca.explained_variance_ratio_\n",
    "    axs[0].bar(grid,evr)\n",
    "    axs[0].set(\n",
    "        xlabel='Component', title= '% Explained Variance', ylim=(0.0, 1.0)\n",
    "    )\n",
    "\n",
    "    # Cumulative Variance\n",
    "    cv = np.cumsum(evr)\n",
    "    axs[1].plot(np.r_[0,grid], np.r_[0, cv], 'o-')\n",
    "    axs[1].set(\n",
    "        xlabel ='Component', title='% Cumulative Variance', ylim=(0.0, 1.0)\n",
    "    )\n",
    "\n",
    "    # Set up figure\n",
    "    fig.set(figwidth=8, dpi=100)\n",
    "    return axs"
   ]
  },
  {
   "cell_type": "code",
   "execution_count": 9,
   "id": "14d76cba",
   "metadata": {},
   "outputs": [],
   "source": [
    "def make_mi_scores(X, y):\n",
    "    X = X.copy()\n",
    "    for colname in X.select_dtypes(['object', 'category']):\n",
    "        X[colname],  _ = X[colname].factorize()\n",
    "\n",
    "    # All discrete features should now have integers dtypes\n",
    "    discrete_features = [pd.api.types.is_integer_dtype(t) for t in X.dtypes]\n",
    "    mi_scores = mutual_info_regression(X, y, discrete_features=discrete_features, random_state=0)\n",
    "    mi_scores = pd.Series(mi_scores, name='MI Scores', index=X.columns)\n",
    "    mi_scores = mi_scores.sort_values(ascending=False)\n",
    "    return mi_scores"
   ]
  },
  {
   "cell_type": "code",
   "execution_count": 12,
   "id": "542c60c5",
   "metadata": {},
   "outputs": [],
   "source": [
    "def score_dataset(X, y, model=XGBRegressor()):\n",
    "    # Label encoding for categoricals\n",
    "    for colname in X.select_dtypes(['category', 'object']):\n",
    "        X[colname], _= X[colname].factorize()\n",
    "\n",
    "    # Metric for Housing competition is RMSLE (Root Mean Squared Log Error)\n",
    "    score = cross_val_score(\n",
    "        model, X, y, cv =5, scoring='neg_mean_squared_log_error', \n",
    "    )\n",
    "    score = -1 * score.mean()\n",
    "    score = np.sqrt(score)\n",
    "    return score"
   ]
  },
  {
   "cell_type": "code",
   "execution_count": 15,
   "id": "7f9b5bab",
   "metadata": {},
   "outputs": [
    {
     "name": "stdout",
     "output_type": "stream",
     "text": [
      "                            MSSubClass  ... SalePrice\n",
      "0  One_Story_1946_and_Newer_All_Styles  ...    215000\n",
      "1  One_Story_1946_and_Newer_All_Styles  ...    105000\n",
      "2  One_Story_1946_and_Newer_All_Styles  ...    172000\n",
      "\n",
      "[3 rows x 79 columns]\n"
     ]
    }
   ],
   "source": [
    "# Importing the csv file\n",
    "df =  pd.read_csv('./input/data/ames.csv')\n",
    "print(df[:3])"
   ]
  }
 ],
 "metadata": {
  "kernelspec": {
   "display_name": "Python 3 (ipykernel)",
   "language": "python",
   "name": "python3"
  },
  "language_info": {
   "codemirror_mode": {
    "name": "ipython",
    "version": 3
   },
   "file_extension": ".py",
   "mimetype": "text/x-python",
   "name": "python",
   "nbconvert_exporter": "python",
   "pygments_lexer": "ipython3",
   "version": "3.10.6"
  }
 },
 "nbformat": 4,
 "nbformat_minor": 5
}
